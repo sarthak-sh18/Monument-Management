{
 "cells": [
  {
   "cell_type": "code",
   "execution_count": null,
   "metadata": {},
   "outputs": [],
   "source": []
  },
  {
   "cell_type": "code",
   "execution_count": 8,
   "metadata": {},
   "outputs": [
    {
     "data": {
      "image/png": "[encoded data removed]",
      "text/plain": [
       "<Figure size 432x288 with 1 Axes>"
      ]
     },
     "metadata": {},
     "output_type": "display_data"
    }
   ],
   "source": [
    "\n",
    "import os\n",
    "\n",
    "import numpy as np\n",
    "\n",
    "import pandas as pd\n",
    "\n",
    "import matplotlib.pyplot as plt\n",
    "\n",
    "unplanned = ['Tubelight','fan','lift','replacement','replace','table','broken','damaged','ticket','water','dispensor','urgent','bulb','screen','chair','furniture']\n",
    "planned = ['new','repair','chemical','artifact','fitting','maintainence','gardening','flooring','washroom','gate','passage','corridoor','wiring','cleaning','service','whitewash','bathroom']\n",
    "\n",
    "dta = pd.read_csv (\"D2-D2.csv\")\n",
    "dta['Weight'] = 0\n",
    "#print (dta.describe())\n",
    "complaints = dta.Maintanence_Activity\n",
    "counter = 0\n",
    "for c in complaints:\n",
    "    words=c.split()\n",
    "    val=0\n",
    "    for word in words:\n",
    "        if word in unplanned:\n",
    "            val+=100\n",
    "        elif word in planned:\n",
    "            val+=1\n",
    "    #print (val)\n",
    "    dta.loc [counter, 'Weight'] = val\n",
    "    counter = counter + 1\n",
    "\n",
    "count_unplanned = 0\n",
    "count_planned=0\n",
    "count_unplanned+=45\n",
    "\n",
    "\n",
    "for aggregate in dta.Weight:\n",
    "    if aggregate >= 1 and aggregate <100:\n",
    "        count_planned+=1\n",
    "    elif aggregate >= 100: \n",
    "        count_unplanned+=1\n",
    "\n",
    "labels= 'Unplanned', 'Planned'\n",
    "\n",
    "sizes= [count_unplanned, count_planned]\n",
    "\n",
    "colors= ['blue', 'green']\n",
    "\n",
    "explode= (0.1, 0) \n",
    "\n",
    "count_unplanned\n",
    "count_planned\n",
    "\n",
    "# Plot\n",
    "\n",
    "plt.pie (sizes, explode=explode, labels=labels, colors=colors, autopct='%1.1f%%', shadow=True, startangle=140)\n",
    "\n",
    "plt.axis ('equal')\n",
    "\n",
    "plt.show()\n",
    "\n",
    "def gini(p):\n",
    "   return (p)*(1 - (p)) + (1 - p)*(1 - (1-p))\n",
    "\n",
    "def entropy(p):\n",
    "   return - p*np.log2(p) - (1 - p)*np.log2((1 - p))\n",
    "\n",
    "def classification_error(p):\n",
    "   return 1 - np.max([p, 1 - p])"
   ]
  },
  {
   "cell_type": "code",
   "execution_count": null,
   "metadata": {},
   "outputs": [],
   "source": []
  },
  {
   "cell_type": "code",
   "execution_count": null,
   "metadata": {},
   "outputs": [],
   "source": [
    "\n"
   ]
  },
  {
   "cell_type": "code",
   "execution_count": null,
   "metadata": {},
   "outputs": [],
   "source": []
  },
  {
   "cell_type": "code",
   "execution_count": null,
   "metadata": {},
   "outputs": [],
   "source": []
  }
 ],
 "metadata": {
  "kernelspec": {
   "display_name": "Python 3",
   "language": "python",
   "name": "python3"
  },
  "language_info": {
   "codemirror_mode": {
    "name": "ipython",
    "version": 3
   },
   "file_extension": ".py",
   "mimetype": "text/x-python",
   "name": "python",
   "nbconvert_exporter": "python",
   "pygments_lexer": "ipython3",
   "version": "3.8.5"
  }
 },
 "nbformat": 4,
 "nbformat_minor": 2
}
